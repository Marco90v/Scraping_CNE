{
  "nbformat": 4,
  "nbformat_minor": 0,
  "metadata": {
    "colab": {
      "name": "Scraping de cne.ipynb",
      "provenance": [],
      "collapsed_sections": [],
      "authorship_tag": "ABX9TyMofBgtMs9OrtavTl03GphQ",
      "include_colab_link": true
    },
    "kernelspec": {
      "name": "python3",
      "display_name": "Python 3"
    },
    "language_info": {
      "name": "python"
    }
  },
  "cells": [
    {
      "cell_type": "markdown",
      "metadata": {
        "id": "view-in-github",
        "colab_type": "text"
      },
      "source": [
        "<a href=\"https://colab.research.google.com/github/Marco90v/Scraping_CNE/blob/main/Scraping_de_cne.ipynb\" target=\"_parent\"><img src=\"https://colab.research.google.com/assets/colab-badge.svg\" alt=\"Open In Colab\"/></a>"
      ]
    },
    {
      "cell_type": "markdown",
      "metadata": {
        "id": "LqWr7yzg9Huz"
      },
      "source": [
        "#**Data extraction from the Venezuelan CNE (National Electoral Center) web platform**.\n",
        "\n",
        "The idea of developing this code began out of curiosity, when I saw a billing system of an electronics store, I could see that at the time of generating the invoice the customer's ID was entered and with this information the name and address of the buyer was extracted, this data was used to generate the invoice.\n",
        "I always wanted to replicate this functionality, so on different occasions I investigated how to do it, which I will explain below.\n",
        "\n",
        "The CNE makes all these data available to the public on its web page, for this you only need to enter the web platform and enter the ID number. Looking at the code of the page, I could see that a GET request is made to a PHP file, it returns an HTML structure to be displayed on the web, at this point just examine the HTML tags and performing Web Scraping extracts the data supplied or required.\n",
        "\n",
        "I chose python, for the ease of use both in its syntax and its libraries, also for the possibility of using in Google Colab and have a faster execution than on my personal computer.\n"
      ]
    },
    {
      "cell_type": "code",
      "metadata": {
        "id": "3nNKlJAXVnxu"
      },
      "source": [
        "import requests\n",
        "import csv\n",
        "from bs4 import BeautifulSoup\n",
        "import json"
      ],
      "execution_count": 64,
      "outputs": []
    },
    {
      "cell_type": "markdown",
      "metadata": {
        "id": "ju4D15s5hocT"
      },
      "source": [
        "JSON Design:\n",
        "---\n",
        "```json\n",
        "[\n",
        "  \"cedula\":{\n",
        "    \"cedula\":\"\",\n",
        "    \"nombre\":\"\",\n",
        "    \"estado\":\"\",\n",
        "    \"municipio\":\"\",\n",
        "    \"parroquia\":\"\",\n",
        "    \"centro\":\"\",\n",
        "    \"direccion\":\"\"\n",
        "  }\n",
        "]\n",
        "```"
      ]
    },
    {
      "cell_type": "code",
      "metadata": {
        "id": "Mrv-hJl_ie6g"
      },
      "source": [
        "def consulta2(cedula=000000):\n",
        "  registro = {}\n",
        "  url = \"http://www.cne.gob.ve/web/registro_electoral/ce.php?nacionalidad=V&cedula=\"+str(cedula)\n",
        "  response = requests.get(url)\n",
        "  html = BeautifulSoup(response.text, 'html.parser')\n",
        "  td = html.find_all('td')\n",
        "  existe = False\n",
        "\n",
        "  for num,item in enumerate(td):\n",
        "    if num == 11 and item.text[0]== 'V':\n",
        "      existe = True\n",
        "    elif num == 11 and item.text[0] != 'V':\n",
        "      registro[\"error\"] = \"Cedula: \" + str(cedula) + \" no registrada\"\n",
        "    if existe:\n",
        "      if num == 11:\n",
        "        registro[\"cedula\"] = str(item.text)\n",
        "      if num == 13:\n",
        "        registro[\"nombre\"] = str(item.text)\n",
        "      if num == 15:\n",
        "        registro[\"estado\"] = str(item.text)\n",
        "      if num == 17:\n",
        "        registro[\"municipio\"] = str(item.text)\n",
        "      if num == 19:\n",
        "        registro[\"parroquia\"] = str(item.text)\n",
        "      if num == 21:\n",
        "        registro[\"centro\"] = str(item.text)\n",
        "      if num == 23:\n",
        "        registro[\"direccion\"] = str(item.text)\n",
        "  return registro"
      ],
      "execution_count": 65,
      "outputs": []
    },
    {
      "cell_type": "code",
      "metadata": {
        "colab": {
          "base_uri": "https://localhost:8080/"
        },
        "id": "VSopshgNmGZ5",
        "outputId": "4c4519c5-af01-42b6-93b6-f0379e3fc92d"
      },
      "source": [
        "data = {}\n",
        "lista = range(20000000,20000003)\n",
        "for num in lista:\n",
        "  d = consulta2( int(num) )\n",
        "  data[str(num)]=d\n",
        "# convert into JSON:\n",
        "j = json.dumps(data)\n",
        "print(j)"
      ],
      "execution_count": 67,
      "outputs": [
        {
          "output_type": "stream",
          "text": [
            "{\"20000000\": {\"cedula\": \"V-20000000\", \"nombre\": \"JOSE GREGORIO URBANEJA CAMPOS\", \"estado\": \"EDO.NVA.ESPARTA\", \"municipio\": \"MP. MANEIRO\", \"parroquia\": \"CM. PAMPATAR\", \"centro\": \"UNIDAD EDUCATIVA ESTADAL LUISA ROSAS DE VELASQUEZ\", \"direccion\": \"SECTOR CAMPEARE DERECHA CALLE 3 DE MAYO. IZQUIERDA CALLE EL CRISTO DEL BUEN VIAJE. FRENTE CALLE EL LICEO DIAGONAL A LA UNIDAD EDUCATIVA ANGEL NORIEGA PEREZ EDIFICIO\"}, \"20000001\": {\"cedula\": \"V-20000001\", \"nombre\": \"JOSE MERCEDES OLIVEROS GOMEZ\", \"estado\": \"EDO.NVA.ESPARTA\", \"municipio\": \"MP. MANEIRO\", \"parroquia\": \"CM. PAMPATAR\", \"centro\": \"UNIDAD EDUCATIVA ESTADAL LUISA ROSAS DE VELASQUEZ\", \"direccion\": \"SECTOR CAMPEARE DERECHA CALLE 3 DE MAYO. IZQUIERDA CALLE EL CRISTO DEL BUEN VIAJE. FRENTE CALLE EL LICEO DIAGONAL A LA UNIDAD EDUCATIVA ANGEL NORIEGA PEREZ EDIFICIO\"}, \"20000002\": {\"cedula\": \"V-20000002\", \"nombre\": \"GINA JOSE DIAZ RODRIGUEZ\", \"estado\": \"EDO.NVA.ESPARTA\", \"municipio\": \"MP. MANEIRO\", \"parroquia\": \"CM. PAMPATAR\", \"centro\": \"UNIDAD EDUCATIVA ESTADAL LUISA ROSAS DE VELASQUEZ\", \"direccion\": \"SECTOR CAMPEARE DERECHA CALLE 3 DE MAYO. IZQUIERDA CALLE EL CRISTO DEL BUEN VIAJE. FRENTE CALLE EL LICEO DIAGONAL A LA UNIDAD EDUCATIVA ANGEL NORIEGA PEREZ EDIFICIO\"}}\n"
          ],
          "name": "stdout"
        }
      ]
    },
    {
      "cell_type": "markdown",
      "metadata": {
        "id": "xfJIYJE81hwJ"
      },
      "source": [
        "## Example of a result:\n",
        "----\n",
        "```json\n",
        "{\n",
        "  \"20000000\": {\n",
        "    \"cedula\": \"V-20000000\", \n",
        "    \"nombre\": \"JOSE GREGORIO URBANEJA CAMPOS\", \n",
        "    \"estado\": \"EDO.NVA.ESPARTA\", \n",
        "    \"municipio\": \"MP. MANEIRO\", \n",
        "    \"parroquia\": \"CM. PAMPATAR\", \n",
        "    \"centro\": \"UNIDAD EDUCATIVA ESTADAL LUISA ROSAS DE VELASQUEZ\", \n",
        "    \"direccion\": \"SECTOR CAMPEARE DERECHA CALLE 3 DE MAYO. IZQUIERDA CALLE EL CRISTO DEL BUEN VIAJE. FRENTE CALLE EL LICEO DIAGONAL A LA UNIDAD EDUCATIVA ANGEL NORIEGA PEREZ EDIFICIO\"\n",
        "  }, \n",
        "  \"20000001\": {\n",
        "      \"cedula\": \"V-20000001\", \n",
        "      \"nombre\": \"JOSE MERCEDES OLIVEROS GOMEZ\", \n",
        "      \"estado\": \"EDO.NVA.ESPARTA\", \n",
        "      \"municipio\": \"MP. MANEIRO\", \n",
        "      \"parroquia\": \"CM. PAMPATAR\", \n",
        "      \"centro\": \"UNIDAD EDUCATIVA ESTADAL LUISA ROSAS DE VELASQUEZ\", \n",
        "      \"direccion\": \"SECTOR CAMPEARE DERECHA CALLE 3 DE MAYO. IZQUIERDA CALLE EL CRISTO DEL BUEN VIAJE. FRENTE CALLE EL LICEO DIAGONAL A LA UNIDAD EDUCATIVA ANGEL NORIEGA PEREZ EDIFICIO\"\n",
        "  }, \n",
        "  \"20000002\": {\n",
        "      \"cedula\": \"V-20000002\", \n",
        "      \"nombre\": \"GINA JOSE DIAZ RODRIGUEZ\", \n",
        "      \"estado\": \"EDO.NVA.ESPARTA\", \n",
        "      \"municipio\": \"MP. MANEIRO\", \n",
        "      \"parroquia\": \"CM. PAMPATAR\", \n",
        "      \"centro\": \"UNIDAD EDUCATIVA ESTADAL LUISA ROSAS DE VELASQUEZ\", \n",
        "      \"direccion\": \"SECTOR CAMPEARE DERECHA CALLE 3 DE MAYO. IZQUIERDA CALLE EL CRISTO DEL BUEN VIAJE. FRENTE CALLE EL LICEO DIAGONAL A LA UNIDAD EDUCATIVA ANGEL NORIEGA PEREZ EDIFICIO\"\n",
        "  }\n",
        "}\n",
        "```"
      ]
    },
    {
      "cell_type": "code",
      "metadata": {
        "id": "JrmtkTRC1kld"
      },
      "source": [
        "with open('data.json', 'w') as file:\n",
        "  file.write(j)"
      ],
      "execution_count": 68,
      "outputs": []
    },
    {
      "cell_type": "code",
      "metadata": {
        "id": "iNQaFwqs8UD3"
      },
      "source": [
        ""
      ],
      "execution_count": null,
      "outputs": []
    }
  ]
}